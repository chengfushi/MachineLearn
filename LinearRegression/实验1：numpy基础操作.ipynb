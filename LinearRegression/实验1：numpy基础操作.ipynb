{
 "cells": [
  {
   "cell_type": "markdown",
   "metadata": {},
   "source": [
    "## 机器学习入门"
   ]
  },
  {
   "cell_type": "markdown",
   "metadata": {},
   "source": [
    "# 机器学习基础实验一：NumPy与scikit-learn入门\n",
    "\n",
    "---\n",
    "\n",
    "## **实验目标**  \n",
    "1. 掌握**NumPy数组**的创建方法与核心属性  \n",
    "2. 理解**数组运算**与**广播机制**的原理与应用  \n",
    "3. 熟练使用**数组索引、切片**及**形状变换**操作  \n",
    "4. 应用**数学函数**与**统计方法**完成数据分析  \n",
    "5. 实现**矩阵运算**与**线性代数**基础操作  \n",
    "6. 初步掌握**scikit-learn**机器学习流程（数据加载→模型训练→预测评估）\n",
    "\n",
    "---\n",
    "\n",
    "## **实验内容**  \n",
    "\n",
    "### **任务1：数组创建与属性验证**  \n",
    "- 创建一维数组和二维数组\n",
    "- 生成全0数组（2×3）、全1数组（3×4，int16类型）  \n",
    "- 使用`arange`创建等差数组  \n",
    "- 验证数组的 `shape`, `dtype`, `ndim` 属性  \n",
    "\n",
    "### **任务2：数组操作与运算**  \n",
    "- 对数组实现：  \n",
    "  - 获取第3个元素  \n",
    "  - 提取第2-4个元素  \n",
    "  - 数组反向输出  \n",
    "- 计算两个数组的逐元素乘法和矩阵乘法  \n",
    "\n",
    "### **任务3：统计与随机数生成**  \n",
    "- 对随机生成的5×5整数矩阵计算：  \n",
    "  - 列均值  \n",
    "  - 行最大值  \n",
    "  - 总体标准差  \n",
    "- 生成符合标准正态分布的3个随机数  \n",
    "- 生成3×2的均匀分布随机矩阵  \n",
    "\n",
    "### **任务4：矩阵操作与形状变换**  \n",
    "- 对3×4矩阵：  \n",
    "  - 展平为一维数组  \n",
    "  - 变形为2×6矩阵  \n",
    "  - 计算转置矩阵  \n",
    "- 实现矩阵合并：  \n",
    "  - 水平合并两个2×2矩阵  \n",
    "  - 垂直合并两个2×2矩阵  \n",
    "- 对4×4矩阵进行水平/垂直拆分  \n",
    "\n",
    "### **任务5：机器学习实践（鸢尾花分类）**  \n",
    "1. 加载鸢尾花数据集，查看数据维度  \n",
    "2. 使用逻辑回归模型完成训练  \n",
    "3. 对前两个样本进行类别预测  \n",
    "4. 输出预测概率分布  \n",
    "5. 计算模型整体准确率  \n",
    "\n",
    "---\n",
    "\n",
    "**实验要求**  \n",
    "1. 所有NumPy操作需通过代码实现并验证结果  \n",
    "2. 矩阵运算需对比`*`与`@`的差异  \n",
    "3. 对`reshape(3,-1)`的自动维度计算给出解释  \n",
    "4. 记录模型预测结果与准确率数值  \n"
   ]
  },
  {
   "cell_type": "code",
   "metadata": {
    "ExecuteTime": {
     "end_time": "2025-03-16T05:12:38.256274Z",
     "start_time": "2025-03-16T05:12:38.250015Z"
    }
   },
   "source": [
    "# 导入numpy模块\n",
    "import numpy as np\n",
    "# 将整数列表转换为NumPy数组\n",
    "a = np.array([1,2,3])\n",
    "# 查看数组对象\n",
    "a"
   ],
   "outputs": [
    {
     "data": {
      "text/plain": [
       "array([1, 2, 3])"
      ]
     },
     "execution_count": 2,
     "metadata": {},
     "output_type": "execute_result"
    }
   ],
   "execution_count": 2
  },
  {
   "cell_type": "code",
   "metadata": {
    "ExecuteTime": {
     "end_time": "2025-03-16T05:12:38.292541Z",
     "start_time": "2025-03-16T05:12:38.288322Z"
    }
   },
   "source": [
    "# 查看整数数组对象类型\n",
    "a.dtype"
   ],
   "outputs": [
    {
     "data": {
      "text/plain": [
       "dtype('int32')"
      ]
     },
     "execution_count": 3,
     "metadata": {},
     "output_type": "execute_result"
    }
   ],
   "execution_count": 3
  },
  {
   "cell_type": "code",
   "metadata": {
    "ExecuteTime": {
     "end_time": "2025-03-16T05:12:38.321259Z",
     "start_time": "2025-03-16T05:12:38.316496Z"
    }
   },
   "source": [
    "# 将浮点数列表转换为NumPy数组\n",
    "b = np.array([1.2, 2.3, 3.4])\n",
    "# 查看浮点数数组对象类型\n",
    "b.dtype"
   ],
   "outputs": [
    {
     "data": {
      "text/plain": [
       "dtype('float64')"
      ]
     },
     "execution_count": 4,
     "metadata": {},
     "output_type": "execute_result"
    }
   ],
   "execution_count": 4
  },
  {
   "cell_type": "code",
   "metadata": {
    "ExecuteTime": {
     "end_time": "2025-03-16T05:12:38.356985Z",
     "start_time": "2025-03-16T05:12:38.351816Z"
    }
   },
   "source": [
    "# 将两个整数列表转换为二维NumPy数组\n",
    "c = np.array([[1,2,3], [4,5,6]])\n",
    "c"
   ],
   "outputs": [
    {
     "data": {
      "text/plain": [
       "array([[1, 2, 3],\n",
       "       [4, 5, 6]])"
      ]
     },
     "execution_count": 5,
     "metadata": {},
     "output_type": "execute_result"
    }
   ],
   "execution_count": 5
  },
  {
   "cell_type": "code",
   "metadata": {
    "ExecuteTime": {
     "end_time": "2025-03-16T05:12:38.413400Z",
     "start_time": "2025-03-16T05:12:38.408159Z"
    }
   },
   "source": [
    "# 生成2×3的全0数组\n",
    "np.zeros((2, 3))"
   ],
   "outputs": [
    {
     "data": {
      "text/plain": [
       "array([[0., 0., 0.],\n",
       "       [0., 0., 0.]])"
      ]
     },
     "execution_count": 6,
     "metadata": {},
     "output_type": "execute_result"
    }
   ],
   "execution_count": 6
  },
  {
   "cell_type": "code",
   "metadata": {
    "ExecuteTime": {
     "end_time": "2025-03-16T05:12:38.519644Z",
     "start_time": "2025-03-16T05:12:38.515091Z"
    }
   },
   "source": [
    "# 生成3×4的全1数组\n",
    "np.ones((3, 4), dtype=np.int16)"
   ],
   "outputs": [
    {
     "data": {
      "text/plain": [
       "array([[1, 1, 1, 1],\n",
       "       [1, 1, 1, 1],\n",
       "       [1, 1, 1, 1]], dtype=int16)"
      ]
     },
     "execution_count": 7,
     "metadata": {},
     "output_type": "execute_result"
    }
   ],
   "execution_count": 7
  },
  {
   "cell_type": "code",
   "metadata": {
    "ExecuteTime": {
     "end_time": "2025-03-16T05:12:38.783404Z",
     "start_time": "2025-03-16T05:12:38.776989Z"
    }
   },
   "source": [
    "# 生成2×3的随机数数组\n",
    "np.empty([2, 3])"
   ],
   "outputs": [
    {
     "data": {
      "text/plain": [
       "array([[0., 0., 0.],\n",
       "       [0., 0., 0.]])"
      ]
     },
     "execution_count": 8,
     "metadata": {},
     "output_type": "execute_result"
    }
   ],
   "execution_count": 8
  },
  {
   "cell_type": "code",
   "metadata": {
    "ExecuteTime": {
     "end_time": "2025-03-16T05:12:39.000201Z",
     "start_time": "2025-03-16T05:12:38.994972Z"
    }
   },
   "source": [
    "# arange方法用于创建给定范围内的数组\n",
    "np.arange(10, 30, 5 )"
   ],
   "outputs": [
    {
     "data": {
      "text/plain": [
       "array([10, 15, 20, 25])"
      ]
     },
     "execution_count": 9,
     "metadata": {},
     "output_type": "execute_result"
    }
   ],
   "execution_count": 9
  },
  {
   "cell_type": "code",
   "metadata": {
    "ExecuteTime": {
     "end_time": "2025-03-16T05:12:39.226231Z",
     "start_time": "2025-03-16T05:12:39.221082Z"
    }
   },
   "source": [
    "# 生成3×2的符合(0,1)均匀分布的随机数数组\n",
    "np.random.rand(3, 2)"
   ],
   "outputs": [
    {
     "data": {
      "text/plain": [
       "array([[0.27234532, 0.52554344],\n",
       "       [0.56643794, 0.24444051],\n",
       "       [0.49114217, 0.57183507]])"
      ]
     },
     "execution_count": 10,
     "metadata": {},
     "output_type": "execute_result"
    }
   ],
   "execution_count": 10
  },
  {
   "cell_type": "code",
   "metadata": {
    "ExecuteTime": {
     "end_time": "2025-03-16T05:12:39.343337Z",
     "start_time": "2025-03-16T05:12:39.337833Z"
    }
   },
   "source": [
    "# 生成0到2范围内长度为5的数组\n",
    "np.random.randint(3, size=5)"
   ],
   "outputs": [
    {
     "data": {
      "text/plain": [
       "array([2, 1, 2, 2, 0])"
      ]
     },
     "execution_count": 11,
     "metadata": {},
     "output_type": "execute_result"
    }
   ],
   "execution_count": 11
  },
  {
   "cell_type": "code",
   "metadata": {
    "ExecuteTime": {
     "end_time": "2025-03-16T05:12:39.468362Z",
     "start_time": "2025-03-16T05:12:39.463375Z"
    }
   },
   "source": [
    "# 生成一组符合标准正态分布的随机数数组\n",
    "np.random.randn(3)"
   ],
   "outputs": [
    {
     "data": {
      "text/plain": [
       "array([-0.30279928,  2.16066253, -1.78223637])"
      ]
     },
     "execution_count": 12,
     "metadata": {},
     "output_type": "execute_result"
    }
   ],
   "execution_count": 12
  },
  {
   "cell_type": "code",
   "metadata": {
    "ExecuteTime": {
     "end_time": "2025-03-16T05:12:39.594962Z",
     "start_time": "2025-03-16T05:12:39.589659Z"
    }
   },
   "source": [
    "# 创建一个一维数组 \n",
    "a = np.arange(10)**2\n",
    "a"
   ],
   "outputs": [
    {
     "data": {
      "text/plain": [
       "array([ 0,  1,  4,  9, 16, 25, 36, 49, 64, 81])"
      ]
     },
     "execution_count": 13,
     "metadata": {},
     "output_type": "execute_result"
    }
   ],
   "execution_count": 13
  },
  {
   "cell_type": "code",
   "metadata": {
    "ExecuteTime": {
     "end_time": "2025-03-16T05:12:39.716995Z",
     "start_time": "2025-03-16T05:12:39.712150Z"
    }
   },
   "source": [
    "# 获取数组的第3个元素\n",
    "a[2]"
   ],
   "outputs": [
    {
     "data": {
      "text/plain": [
       "4"
      ]
     },
     "execution_count": 14,
     "metadata": {},
     "output_type": "execute_result"
    }
   ],
   "execution_count": 14
  },
  {
   "cell_type": "code",
   "metadata": {
    "ExecuteTime": {
     "end_time": "2025-03-16T05:12:39.772552Z",
     "start_time": "2025-03-16T05:12:39.767001Z"
    }
   },
   "source": [
    "# 获取第2个到第4个数组元素\n",
    "a[1:4]"
   ],
   "outputs": [
    {
     "data": {
      "text/plain": [
       "array([1, 4, 9])"
      ]
     },
     "execution_count": 15,
     "metadata": {},
     "output_type": "execute_result"
    }
   ],
   "execution_count": 15
  },
  {
   "cell_type": "code",
   "metadata": {
    "ExecuteTime": {
     "end_time": "2025-03-16T05:12:39.809781Z",
     "start_time": "2025-03-16T05:12:39.804970Z"
    }
   },
   "source": [
    "# 一维数组翻转\n",
    "a[::-1]"
   ],
   "outputs": [
    {
     "data": {
      "text/plain": [
       "array([81, 64, 49, 36, 25, 16,  9,  4,  1,  0])"
      ]
     },
     "execution_count": 16,
     "metadata": {},
     "output_type": "execute_result"
    }
   ],
   "execution_count": 16
  },
  {
   "cell_type": "code",
   "metadata": {
    "ExecuteTime": {
     "end_time": "2025-03-16T05:12:39.859531Z",
     "start_time": "2025-03-16T05:12:39.854319Z"
    }
   },
   "source": [
    "# 创建一个多维数组\n",
    "b = np.random.random((3,3))\n",
    "b"
   ],
   "outputs": [
    {
     "data": {
      "text/plain": [
       "array([[0.19141368, 0.99343652, 0.34277288],\n",
       "       [0.86027008, 0.64000873, 0.57515153],\n",
       "       [0.75864138, 0.24474649, 0.54450401]])"
      ]
     },
     "execution_count": 17,
     "metadata": {},
     "output_type": "execute_result"
    }
   ],
   "execution_count": 17
  },
  {
   "cell_type": "code",
   "metadata": {
    "ExecuteTime": {
     "end_time": "2025-03-16T05:12:39.924387Z",
     "start_time": "2025-03-16T05:12:39.919294Z"
    }
   },
   "source": [
    "# 获取第2行第3列的数组元素\n",
    "b[1,2]"
   ],
   "outputs": [
    {
     "data": {
      "text/plain": [
       "0.5751515267309877"
      ]
     },
     "execution_count": 18,
     "metadata": {},
     "output_type": "execute_result"
    }
   ],
   "execution_count": 18
  },
  {
   "cell_type": "code",
   "metadata": {
    "ExecuteTime": {
     "end_time": "2025-03-16T05:12:40.031340Z",
     "start_time": "2025-03-16T05:12:40.026854Z"
    }
   },
   "source": [
    "# 获取第2列数据\n",
    "b[:,1]"
   ],
   "outputs": [
    {
     "data": {
      "text/plain": [
       "array([0.99343652, 0.64000873, 0.24474649])"
      ]
     },
     "execution_count": 19,
     "metadata": {},
     "output_type": "execute_result"
    }
   ],
   "execution_count": 19
  },
  {
   "cell_type": "code",
   "metadata": {
    "ExecuteTime": {
     "end_time": "2025-03-16T05:12:40.087012Z",
     "start_time": "2025-03-16T05:12:40.082484Z"
    }
   },
   "source": [
    "# 获取第3列前两行数据\n",
    "b[:2, 2]"
   ],
   "outputs": [
    {
     "data": {
      "text/plain": [
       "array([0.34277288, 0.57515153])"
      ]
     },
     "execution_count": 20,
     "metadata": {},
     "output_type": "execute_result"
    }
   ],
   "execution_count": 20
  },
  {
   "cell_type": "code",
   "metadata": {
    "ExecuteTime": {
     "end_time": "2025-03-16T05:12:40.140014Z",
     "start_time": "2025-03-16T05:12:40.133988Z"
    }
   },
   "source": [
    "# 创建两个不同的数组\n",
    "a = np.arange(4)\n",
    "b = np.array([5,10,15,20])\n",
    "# 两个数组做减法运算\n",
    "b-a"
   ],
   "outputs": [
    {
     "data": {
      "text/plain": [
       "array([ 5,  9, 13, 17])"
      ]
     },
     "execution_count": 21,
     "metadata": {},
     "output_type": "execute_result"
    }
   ],
   "execution_count": 21
  },
  {
   "cell_type": "code",
   "metadata": {
    "ExecuteTime": {
     "end_time": "2025-03-16T05:12:40.188358Z",
     "start_time": "2025-03-16T05:12:40.184308Z"
    }
   },
   "source": [
    "# 计算数组的平方\n",
    "b**2"
   ],
   "outputs": [
    {
     "data": {
      "text/plain": [
       "array([ 25, 100, 225, 400])"
      ]
     },
     "execution_count": 22,
     "metadata": {},
     "output_type": "execute_result"
    }
   ],
   "execution_count": 22
  },
  {
   "cell_type": "code",
   "metadata": {
    "ExecuteTime": {
     "end_time": "2025-03-16T05:12:40.234817Z",
     "start_time": "2025-03-16T05:12:40.230886Z"
    }
   },
   "source": [
    "# 计算数组的正弦值\n",
    "np.sin(a)"
   ],
   "outputs": [
    {
     "data": {
      "text/plain": [
       "array([0.        , 0.84147098, 0.90929743, 0.14112001])"
      ]
     },
     "execution_count": 23,
     "metadata": {},
     "output_type": "execute_result"
    }
   ],
   "execution_count": 23
  },
  {
   "cell_type": "code",
   "metadata": {
    "ExecuteTime": {
     "end_time": "2025-03-16T05:12:40.287866Z",
     "start_time": "2025-03-16T05:12:40.283175Z"
    }
   },
   "source": [
    "# 数组的逻辑运算\n",
    "b<20"
   ],
   "outputs": [
    {
     "data": {
      "text/plain": [
       "array([ True,  True,  True, False])"
      ]
     },
     "execution_count": 24,
     "metadata": {},
     "output_type": "execute_result"
    }
   ],
   "execution_count": 24
  },
  {
   "cell_type": "code",
   "metadata": {
    "ExecuteTime": {
     "end_time": "2025-03-16T05:12:40.337988Z",
     "start_time": "2025-03-16T05:12:40.332386Z"
    }
   },
   "source": [
    "# 数组求均值和方差\n",
    "np.mean(b)"
   ],
   "outputs": [
    {
     "data": {
      "text/plain": [
       "12.5"
      ]
     },
     "execution_count": 25,
     "metadata": {},
     "output_type": "execute_result"
    }
   ],
   "execution_count": 25
  },
  {
   "cell_type": "code",
   "metadata": {
    "ExecuteTime": {
     "end_time": "2025-03-16T05:12:40.387052Z",
     "start_time": "2025-03-16T05:12:40.381404Z"
    }
   },
   "source": [
    "# 数组求方差\n",
    "np.var(b)"
   ],
   "outputs": [
    {
     "data": {
      "text/plain": [
       "31.25"
      ]
     },
     "execution_count": 26,
     "metadata": {},
     "output_type": "execute_result"
    }
   ],
   "execution_count": 26
  },
  {
   "cell_type": "code",
   "metadata": {
    "ExecuteTime": {
     "end_time": "2025-03-16T05:12:40.445385Z",
     "start_time": "2025-03-16T05:12:40.439179Z"
    }
   },
   "source": [
    "# 创建两个不同的数组\n",
    "A = np.array([[1,1],\n",
    "              [0,1]])\n",
    "B = np.array([[2,0],\n",
    "              [3,4]])\n",
    "# 矩阵元素乘积\n",
    "A * B"
   ],
   "outputs": [
    {
     "data": {
      "text/plain": [
       "array([[2, 0],\n",
       "       [0, 4]])"
      ]
     },
     "execution_count": 27,
     "metadata": {},
     "output_type": "execute_result"
    }
   ],
   "execution_count": 27
  },
  {
   "cell_type": "code",
   "metadata": {
    "ExecuteTime": {
     "end_time": "2025-03-16T05:12:40.506856Z",
     "start_time": "2025-03-16T05:12:40.501040Z"
    }
   },
   "source": [
    "# 矩阵点乘\n",
    "A.dot(B)"
   ],
   "outputs": [
    {
     "data": {
      "text/plain": [
       "array([[5, 4],\n",
       "       [3, 4]])"
      ]
     },
     "execution_count": 28,
     "metadata": {},
     "output_type": "execute_result"
    }
   ],
   "execution_count": 28
  },
  {
   "cell_type": "code",
   "metadata": {
    "ExecuteTime": {
     "end_time": "2025-03-16T05:12:40.599266Z",
     "start_time": "2025-03-16T05:12:40.585299Z"
    }
   },
   "source": [
    "# 矩阵求逆\n",
    "np.linalg.inv(A)"
   ],
   "outputs": [
    {
     "data": {
      "text/plain": [
       "array([[ 1., -1.],\n",
       "       [ 0.,  1.]])"
      ]
     },
     "execution_count": 29,
     "metadata": {},
     "output_type": "execute_result"
    }
   ],
   "execution_count": 29
  },
  {
   "cell_type": "code",
   "metadata": {
    "ExecuteTime": {
     "end_time": "2025-03-16T05:12:40.801225Z",
     "start_time": "2025-03-16T05:12:40.796814Z"
    }
   },
   "source": [
    "# 矩阵求行列式\n",
    "np.linalg.det(A)"
   ],
   "outputs": [
    {
     "data": {
      "text/plain": [
       "1.0"
      ]
     },
     "execution_count": 30,
     "metadata": {},
     "output_type": "execute_result"
    }
   ],
   "execution_count": 30
  },
  {
   "cell_type": "code",
   "metadata": {
    "ExecuteTime": {
     "end_time": "2025-03-16T05:12:40.896043Z",
     "start_time": "2025-03-16T05:12:40.891537Z"
    }
   },
   "source": [
    "# 创建一个3×4的数组\n",
    "a = np.floor(10*np.random.random((3,4)))\n",
    "a"
   ],
   "outputs": [
    {
     "data": {
      "text/plain": [
       "array([[7., 5., 3., 6.],\n",
       "       [9., 7., 4., 0.],\n",
       "       [2., 4., 6., 5.]])"
      ]
     },
     "execution_count": 31,
     "metadata": {},
     "output_type": "execute_result"
    }
   ],
   "execution_count": 31
  },
  {
   "cell_type": "code",
   "metadata": {
    "ExecuteTime": {
     "end_time": "2025-03-16T05:12:41.003144Z",
     "start_time": "2025-03-16T05:12:40.998579Z"
    }
   },
   "source": [
    "# 查看数组维度\n",
    "a.shape"
   ],
   "outputs": [
    {
     "data": {
      "text/plain": [
       "(3, 4)"
      ]
     },
     "execution_count": 32,
     "metadata": {},
     "output_type": "execute_result"
    }
   ],
   "execution_count": 32
  },
  {
   "cell_type": "code",
   "metadata": {
    "ExecuteTime": {
     "end_time": "2025-03-16T05:12:41.177297Z",
     "start_time": "2025-03-16T05:12:41.171789Z"
    }
   },
   "source": [
    "# 数组展平\n",
    "a.ravel()"
   ],
   "outputs": [
    {
     "data": {
      "text/plain": [
       "array([7., 5., 3., 6., 9., 7., 4., 0., 2., 4., 6., 5.])"
      ]
     },
     "execution_count": 33,
     "metadata": {},
     "output_type": "execute_result"
    }
   ],
   "execution_count": 33
  },
  {
   "cell_type": "code",
   "metadata": {
    "ExecuteTime": {
     "end_time": "2025-03-16T05:12:41.266307Z",
     "start_time": "2025-03-16T05:12:41.261419Z"
    }
   },
   "source": [
    "# 将数组变换为2×6数组\n",
    "a.reshape(2,6)"
   ],
   "outputs": [
    {
     "data": {
      "text/plain": [
       "array([[7., 5., 3., 6., 9., 7.],\n",
       "       [4., 0., 2., 4., 6., 5.]])"
      ]
     },
     "execution_count": 34,
     "metadata": {},
     "output_type": "execute_result"
    }
   ],
   "execution_count": 34
  },
  {
   "cell_type": "code",
   "metadata": {
    "ExecuteTime": {
     "end_time": "2025-03-16T05:12:41.349673Z",
     "start_time": "2025-03-16T05:12:41.344605Z"
    }
   },
   "source": [
    "# 求数组的转置\n",
    "a.T"
   ],
   "outputs": [
    {
     "data": {
      "text/plain": [
       "array([[7., 9., 2.],\n",
       "       [5., 7., 4.],\n",
       "       [3., 4., 6.],\n",
       "       [6., 0., 5.]])"
      ]
     },
     "execution_count": 35,
     "metadata": {},
     "output_type": "execute_result"
    }
   ],
   "execution_count": 35
  },
  {
   "cell_type": "code",
   "metadata": {
    "ExecuteTime": {
     "end_time": "2025-03-16T05:12:41.456376Z",
     "start_time": "2025-03-16T05:12:41.451561Z"
    }
   },
   "source": [
    "a.T.shape"
   ],
   "outputs": [
    {
     "data": {
      "text/plain": [
       "(4, 3)"
      ]
     },
     "execution_count": 36,
     "metadata": {},
     "output_type": "execute_result"
    }
   ],
   "execution_count": 36
  },
  {
   "cell_type": "code",
   "metadata": {
    "ExecuteTime": {
     "end_time": "2025-03-16T05:12:41.588774Z",
     "start_time": "2025-03-16T05:12:41.584136Z"
    }
   },
   "source": [
    "# -1维度表示NumPy会自动计算该维度\n",
    "a.reshape(3,-1)"
   ],
   "outputs": [
    {
     "data": {
      "text/plain": [
       "array([[7., 5., 3., 6.],\n",
       "       [9., 7., 4., 0.],\n",
       "       [2., 4., 6., 5.]])"
      ]
     },
     "execution_count": 37,
     "metadata": {},
     "output_type": "execute_result"
    }
   ],
   "execution_count": 37
  },
  {
   "cell_type": "code",
   "metadata": {
    "ExecuteTime": {
     "end_time": "2025-03-16T05:12:41.692223Z",
     "start_time": "2025-03-16T05:12:41.687113Z"
    }
   },
   "source": [
    "# 按行合并代码清单1-7中的A数组和B数组\n",
    "np.hstack((A,B))"
   ],
   "outputs": [
    {
     "data": {
      "text/plain": [
       "array([[1, 1, 2, 0],\n",
       "       [0, 1, 3, 4]])"
      ]
     },
     "execution_count": 38,
     "metadata": {},
     "output_type": "execute_result"
    }
   ],
   "execution_count": 38
  },
  {
   "cell_type": "code",
   "metadata": {
    "ExecuteTime": {
     "end_time": "2025-03-16T05:12:41.849515Z",
     "start_time": "2025-03-16T05:12:41.844525Z"
    }
   },
   "source": [
    "# 按列合并A数组和B数组\n",
    "np.vstack((A,B))"
   ],
   "outputs": [
    {
     "data": {
      "text/plain": [
       "array([[1, 1],\n",
       "       [0, 1],\n",
       "       [2, 0],\n",
       "       [3, 4]])"
      ]
     },
     "execution_count": 39,
     "metadata": {},
     "output_type": "execute_result"
    }
   ],
   "execution_count": 39
  },
  {
   "cell_type": "code",
   "metadata": {
    "ExecuteTime": {
     "end_time": "2025-03-16T05:12:42.020049Z",
     "start_time": "2025-03-16T05:12:42.015419Z"
    }
   },
   "source": [
    "# 创建一个新数组\n",
    "C = np.arange(16.0).reshape(4, 4)\n",
    "C"
   ],
   "outputs": [
    {
     "data": {
      "text/plain": [
       "array([[ 0.,  1.,  2.,  3.],\n",
       "       [ 4.,  5.,  6.,  7.],\n",
       "       [ 8.,  9., 10., 11.],\n",
       "       [12., 13., 14., 15.]])"
      ]
     },
     "execution_count": 40,
     "metadata": {},
     "output_type": "execute_result"
    }
   ],
   "execution_count": 40
  },
  {
   "cell_type": "code",
   "metadata": {
    "ExecuteTime": {
     "end_time": "2025-03-16T05:12:42.192390Z",
     "start_time": "2025-03-16T05:12:42.186675Z"
    }
   },
   "source": [
    "# 按水平方向将数组C切分为两个数组\n",
    "np.hsplit(C, 2)"
   ],
   "outputs": [
    {
     "data": {
      "text/plain": [
       "[array([[ 0.,  1.],\n",
       "        [ 4.,  5.],\n",
       "        [ 8.,  9.],\n",
       "        [12., 13.]]),\n",
       " array([[ 2.,  3.],\n",
       "        [ 6.,  7.],\n",
       "        [10., 11.],\n",
       "        [14., 15.]])]"
      ]
     },
     "execution_count": 41,
     "metadata": {},
     "output_type": "execute_result"
    }
   ],
   "execution_count": 41
  },
  {
   "cell_type": "code",
   "metadata": {
    "ExecuteTime": {
     "end_time": "2025-03-16T05:12:42.326907Z",
     "start_time": "2025-03-16T05:12:42.321550Z"
    }
   },
   "source": [
    "# 按垂直方向将数组C切分为两个数组\n",
    "np.vsplit(C, 2)"
   ],
   "outputs": [
    {
     "data": {
      "text/plain": [
       "[array([[0., 1., 2., 3.],\n",
       "        [4., 5., 6., 7.]]),\n",
       " array([[ 8.,  9., 10., 11.],\n",
       "        [12., 13., 14., 15.]])]"
      ]
     },
     "execution_count": 42,
     "metadata": {},
     "output_type": "execute_result"
    }
   ],
   "execution_count": 42
  },
  {
   "cell_type": "code",
   "metadata": {
    "ExecuteTime": {
     "end_time": "2025-03-16T05:12:42.791248Z",
     "start_time": "2025-03-16T05:12:42.433190Z"
    }
   },
   "source": [
    "# 导入iris数据集和逻辑回归算法模块\n",
    "from sklearn.datasets import load_iris\n",
    "from sklearn.linear_model import LogisticRegression\n",
    "# 导入数据\n",
    "X, y = load_iris(return_X_y=True)\n",
    "# 拟合模型\n",
    "clf = LogisticRegression(random_state=0).fit(X, y)\n",
    "# 预测\n",
    "clf.predict(X[:2, :])"
   ],
   "outputs": [
    {
     "name": "stderr",
     "output_type": "stream",
     "text": [
      "C:\\Users\\30362\\AppData\\Roaming\\Python\\Python312\\site-packages\\sklearn\\linear_model\\_logistic.py:469: ConvergenceWarning: lbfgs failed to converge (status=1):\n",
      "STOP: TOTAL NO. of ITERATIONS REACHED LIMIT.\n",
      "\n",
      "Increase the number of iterations (max_iter) or scale the data as shown in:\n",
      "    https://scikit-learn.org/stable/modules/preprocessing.html\n",
      "Please also refer to the documentation for alternative solver options:\n",
      "    https://scikit-learn.org/stable/modules/linear_model.html#logistic-regression\n",
      "  n_iter_i = _check_optimize_result(\n"
     ]
    },
    {
     "data": {
      "text/plain": [
       "array([0, 0])"
      ]
     },
     "execution_count": 43,
     "metadata": {},
     "output_type": "execute_result"
    }
   ],
   "execution_count": 43
  },
  {
   "cell_type": "code",
   "metadata": {
    "ExecuteTime": {
     "end_time": "2025-03-16T05:12:42.815487Z",
     "start_time": "2025-03-16T05:12:42.808739Z"
    }
   },
   "source": [
    "# 概率预测\n",
    "clf.predict_proba(X[:2, :])"
   ],
   "outputs": [
    {
     "data": {
      "text/plain": [
       "array([[9.81806865e-01, 1.81931206e-02, 1.44258943e-08],\n",
       "       [9.71743357e-01, 2.82566128e-02, 3.01647766e-08]])"
      ]
     },
     "execution_count": 44,
     "metadata": {},
     "output_type": "execute_result"
    }
   ],
   "execution_count": 44
  },
  {
   "cell_type": "code",
   "metadata": {
    "ExecuteTime": {
     "end_time": "2025-03-16T05:12:42.932030Z",
     "start_time": "2025-03-16T05:12:42.925347Z"
    }
   },
   "source": [
    "# 模型准确率\n",
    "clf.score(X, y)"
   ],
   "outputs": [
    {
     "data": {
      "text/plain": [
       "0.9733333333333334"
      ]
     },
     "execution_count": 45,
     "metadata": {},
     "output_type": "execute_result"
    }
   ],
   "execution_count": 45
  },
  {
   "cell_type": "code",
   "metadata": {
    "ExecuteTime": {
     "end_time": "2025-03-16T05:12:43.022205Z",
     "start_time": "2025-03-16T05:12:43.018695Z"
    }
   },
   "source": [],
   "outputs": [],
   "execution_count": null
  }
 ],
 "metadata": {
  "kernelspec": {
   "display_name": "Python 3 (ipykernel)",
   "language": "python",
   "name": "python3"
  },
  "language_info": {
   "codemirror_mode": {
    "name": "ipython",
    "version": 3
   },
   "file_extension": ".py",
   "mimetype": "text/x-python",
   "name": "python",
   "nbconvert_exporter": "python",
   "pygments_lexer": "ipython3",
   "version": "3.12.7"
  }
 },
 "nbformat": 4,
 "nbformat_minor": 4
}
