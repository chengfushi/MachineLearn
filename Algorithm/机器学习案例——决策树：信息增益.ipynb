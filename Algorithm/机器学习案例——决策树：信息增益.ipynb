{
 "cells": [
  {
   "cell_type": "markdown",
   "id": "da088943",
   "metadata": {},
   "source": [
    "### 计算高尔夫数据集中的信息增益"
   ]
  },
  {
   "cell_type": "code",
   "execution_count": 2,
   "id": "e84a4a0c",
   "metadata": {},
   "outputs": [],
   "source": [
    "import numpy as np\n",
    "import math\n",
    "#计算信息熵\n",
    "def entropy(ele):\n",
    "    '''\n",
    "    输入：\n",
    "    ele:包含类别取值的列表\n",
    "    输出：信息熵\n",
    "    ''' \n",
    "    probs = [ele.count(i)/len(ele) for i in set(ele)]\n",
    "    entropy = -sum([prob*math.log(prob,2) for prob in probs])\n",
    "    return entropy"
   ]
  },
  {
   "cell_type": "code",
   "execution_count": 3,
   "id": "a164d14f",
   "metadata": {},
   "outputs": [
    {
     "data": {
      "text/html": [
       "<div>\n",
       "<style scoped>\n",
       "    .dataframe tbody tr th:only-of-type {\n",
       "        vertical-align: middle;\n",
       "    }\n",
       "\n",
       "    .dataframe tbody tr th {\n",
       "        vertical-align: top;\n",
       "    }\n",
       "\n",
       "    .dataframe thead th {\n",
       "        text-align: right;\n",
       "    }\n",
       "</style>\n",
       "<table border=\"1\" class=\"dataframe\">\n",
       "  <thead>\n",
       "    <tr style=\"text-align: right;\">\n",
       "      <th></th>\n",
       "      <th>湿度</th>\n",
       "      <th>天气</th>\n",
       "      <th>温度</th>\n",
       "      <th>是否有风</th>\n",
       "      <th>play</th>\n",
       "    </tr>\n",
       "  </thead>\n",
       "  <tbody>\n",
       "    <tr>\n",
       "      <th>0</th>\n",
       "      <td>high</td>\n",
       "      <td>sunny</td>\n",
       "      <td>hot</td>\n",
       "      <td>no</td>\n",
       "      <td>no</td>\n",
       "    </tr>\n",
       "    <tr>\n",
       "      <th>1</th>\n",
       "      <td>high</td>\n",
       "      <td>sunny</td>\n",
       "      <td>hot</td>\n",
       "      <td>yes</td>\n",
       "      <td>no</td>\n",
       "    </tr>\n",
       "    <tr>\n",
       "      <th>2</th>\n",
       "      <td>high</td>\n",
       "      <td>overcast</td>\n",
       "      <td>hot</td>\n",
       "      <td>no</td>\n",
       "      <td>yes</td>\n",
       "    </tr>\n",
       "    <tr>\n",
       "      <th>3</th>\n",
       "      <td>high</td>\n",
       "      <td>rainy</td>\n",
       "      <td>mild</td>\n",
       "      <td>no</td>\n",
       "      <td>yes</td>\n",
       "    </tr>\n",
       "    <tr>\n",
       "      <th>4</th>\n",
       "      <td>normal</td>\n",
       "      <td>rainy</td>\n",
       "      <td>cool</td>\n",
       "      <td>no</td>\n",
       "      <td>yes</td>\n",
       "    </tr>\n",
       "  </tbody>\n",
       "</table>\n",
       "</div>"
      ],
      "text/plain": [
       "       湿度        天气    温度 是否有风 play\n",
       "0    high     sunny   hot   no   no\n",
       "1    high     sunny   hot  yes   no\n",
       "2    high  overcast   hot   no  yes\n",
       "3    high     rainy  mild   no  yes\n",
       "4  normal     rainy  cool   no  yes"
      ]
     },
     "execution_count": 3,
     "metadata": {},
     "output_type": "execute_result"
    }
   ],
   "source": [
    "import pandas as pd\n",
    "df = pd.DataFrame(pd.read_csv('./golf_data.csv',encoding='GBK'))\n",
    "df.head()"
   ]
  },
  {
   "cell_type": "code",
   "execution_count": 4,
   "id": "29ef4784",
   "metadata": {},
   "outputs": [
    {
     "data": {
      "text/plain": [
       "0.9402859586706309"
      ]
     },
     "execution_count": 4,
     "metadata": {},
     "output_type": "execute_result"
    }
   ],
   "source": [
    "entropy_D = entropy(df['play'].tolist())\n",
    "entropy_D"
   ]
  },
  {
   "cell_type": "code",
   "execution_count": 5,
   "id": "2e95fdea",
   "metadata": {},
   "outputs": [],
   "source": [
    "#subset1: sunny  subset2:rainy  subset3:overcast\n",
    "subset1 = df.loc[df['天气']=='sunny']\n",
    "subset2 = df.loc[df['天气']=='rainy']\n",
    "subset3 = df.loc[df['天气']=='overcast']"
   ]
  },
  {
   "cell_type": "code",
   "execution_count": 6,
   "id": "ab73c4a8",
   "metadata": {},
   "outputs": [
    {
     "name": "stdout",
     "output_type": "stream",
     "text": [
      "0.2467498197744391\n"
     ]
    }
   ],
   "source": [
    "entropy_DA = len(subset1)/len(df)*entropy(subset1['play'].tolist())+\\\n",
    "                len(subset2)/len(df)*entropy(subset2['play'].tolist())+\\\n",
    "                len(subset3)/len(df)*entropy((subset3['play'].tolist()))\n",
    "info_gain = entropy_D - entropy_DA\n",
    "\n",
    "print(info_gain)"
   ]
  },
  {
   "cell_type": "code",
   "execution_count": null,
   "id": "67a5e5b5",
   "metadata": {},
   "outputs": [],
   "source": []
  },
  {
   "cell_type": "code",
   "execution_count": null,
   "id": "276314fe-09ae-4df3-aa6a-30578b475b6c",
   "metadata": {},
   "outputs": [],
   "source": []
  },
  {
   "cell_type": "code",
   "execution_count": null,
   "id": "3be3bf49-6f7c-45aa-9de3-0f500f88d826",
   "metadata": {},
   "outputs": [],
   "source": []
  }
 ],
 "metadata": {
  "kernelspec": {
   "display_name": "Python 3 (ipykernel)",
   "language": "python",
   "name": "python3"
  },
  "language_info": {
   "codemirror_mode": {
    "name": "ipython",
    "version": 3
   },
   "file_extension": ".py",
   "mimetype": "text/x-python",
   "name": "python",
   "nbconvert_exporter": "python",
   "pygments_lexer": "ipython3",
   "version": "3.12.7"
  }
 },
 "nbformat": 4,
 "nbformat_minor": 5
}
