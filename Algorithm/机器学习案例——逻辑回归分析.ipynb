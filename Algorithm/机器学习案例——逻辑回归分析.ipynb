{
 "cells": [
  {
   "cell_type": "code",
   "execution_count": 1,
   "id": "45ad5f61",
   "metadata": {},
   "outputs": [],
   "source": [
    "from sklearn.datasets import load_breast_cancer\n",
    "from sklearn.model_selection import train_test_split\n",
    "from sklearn.preprocessing import MinMaxScaler\n",
    "import numpy as np"
   ]
  },
  {
   "cell_type": "code",
   "execution_count": 2,
   "id": "c3448286",
   "metadata": {},
   "outputs": [],
   "source": [
    "data = load_breast_cancer()['data']\n",
    "mm = MinMaxScaler()\n",
    "data = mm.fit_transform(data)\n",
    "label = load_breast_cancer()['target']"
   ]
  },
  {
   "cell_type": "code",
   "execution_count": 3,
   "id": "b5829297",
   "metadata": {},
   "outputs": [
    {
     "name": "stdout",
     "output_type": "stream",
     "text": [
      "(455, 30) (455,)\n",
      "(455, 30) (455, 1)\n"
     ]
    }
   ],
   "source": [
    "train_X,test_X,train_y,test_y = train_test_split(data,label,test_size=0.2,random_state=5)\n",
    "print(train_X.shape,  train_y.shape)\n",
    "train_y, test_y = train_y.reshape((-1,1)), test_y.reshape((-1,1))\n",
    "print(train_X.shape,  train_y.shape)"
   ]
  },
  {
   "cell_type": "code",
   "execution_count": 4,
   "id": "343780b0",
   "metadata": {},
   "outputs": [],
   "source": [
    "### 定义sigmoid函数\n",
    "def sigmoid(x):\n",
    "    return 1/(1+np.exp(-x))\n",
    "\n",
    "###定义参数初始化函数\n",
    "def initialize_param(dims):\n",
    "    w = np.zeros((dims, 1))\n",
    "    b = 0\n",
    "    return w, b"
   ]
  },
  {
   "cell_type": "code",
   "execution_count": 5,
   "id": "149a9b66",
   "metadata": {},
   "outputs": [],
   "source": [
    "### 定义对数几率回归模型主体\n",
    "def logistic(X, y, w, b):\n",
    "    '''\n",
    "    输入:\n",
    "    X：输入特征矩阵\n",
    "    y：输出标签向量\n",
    "    w：权重系数\n",
    "    b：偏置参数\n",
    "    输出：\n",
    "    y_hat: 对数几率回归模型输出\n",
    "    cost: 损失\n",
    "    dw：权重梯度\n",
    "    db：偏置梯度\n",
    "    '''\n",
    "    # 训练样本数量\n",
    "    num_train = X.shape[0]\n",
    "    # 训练特征数量\n",
    "    num_feature = X.shape[1]\n",
    "    # 对数几率回归模型输出\n",
    "    y_hat = sigmoid(np.dot(X, w) + b)\n",
    "    # 计算预测输出与实际标签之间的均方损失\n",
    "    cost = -1/num_train*np.sum(y*np.log(y_hat)+(1-y)*np.log(1-y_hat))\n",
    "    # 更新梯度\n",
    "    dw = np.dot(X.T, (y_hat-y))/num_train\n",
    "    db = np.sum((y_hat-y))/num_train\n",
    "    cost = np.squeeze(cost)\n",
    "    return y_hat, cost, dw, db"
   ]
  },
  {
   "cell_type": "code",
   "execution_count": 6,
   "id": "afea3a0e",
   "metadata": {},
   "outputs": [],
   "source": [
    "### 定义对数几率回归模型训练过程\n",
    "def logistic_train(X, y, learning_rate=0.1, epochs=500):\n",
    "    '''\n",
    "    输入：\n",
    "    X：输入变量矩阵\n",
    "    y：输出标签向量\n",
    "    learning_rate：学习率\n",
    "    epochs：训练迭代次数\n",
    "    输出：\n",
    "    cost_list：损失列表\n",
    "    params：优化后的参数字典\n",
    "    grads：优化后的参数梯度字典\n",
    "    '''\n",
    "    # 记录训练损失的空列表\n",
    "    cost_list= []\n",
    "    # 初始化模型参数\n",
    "    w, b = initialize_param(X.shape[1])\n",
    "    # 迭代训练\n",
    "    for i in range(1, epochs):\n",
    "        # 计算当前迭代的预测值、损失和梯度\n",
    "        y_hat, cost, dw, db = logistic(X, y, w, b)\n",
    "        # 基于梯度下降的参数更新\n",
    "        w += -learning_rate * dw\n",
    "        b += -learning_rate * db\n",
    "        # 记录当前迭代的损失\n",
    "        if i % 100 == 0:\n",
    "            cost_list.append(cost)\n",
    "            print('epoch %d loss %f' % (i, cost))\n",
    "        # 将当前迭代步优化后的参数保存到字典\n",
    "        params = {\n",
    "            'w': w,\n",
    "            'b': b\n",
    "        }\n",
    "        # 将当前迭代步的梯度保存到字典\n",
    "        grads = {\n",
    "            'dw': dw,\n",
    "            'db': db\n",
    "        }     \n",
    "    return cost_list, params, grads"
   ]
  },
  {
   "cell_type": "code",
   "execution_count": 7,
   "id": "db30ec94",
   "metadata": {},
   "outputs": [],
   "source": [
    "def logis_predict(X, params):\n",
    "    '''\n",
    "    输入：\n",
    "    X: 输入特征矩阵\n",
    "    params: 训练好的模型参数\n",
    "    输出：\n",
    "    y_prediction: 转换后的模型预测值\n",
    "    '''\n",
    "    # 模型预测值\n",
    "    \n",
    "    \n",
    "    y_prediction = sigmoid(np.dot(X, params['w']) + params['b'])\n",
    "    # 基于分类阈值对概率预测值进行类别转换\n",
    "    for i in range(len(y_prediction)):        \n",
    "        if y_prediction[i] > 0.5:\n",
    "            y_prediction[i] = 1\n",
    "        else:\n",
    "            y_prediction[i] = 0\n",
    "            \n",
    "    return y_prediction"
   ]
  },
  {
   "cell_type": "code",
   "execution_count": 8,
   "id": "f4b6ff0d",
   "metadata": {},
   "outputs": [
    {
     "name": "stdout",
     "output_type": "stream",
     "text": [
      "epoch 100 loss 0.502322\n",
      "epoch 200 loss 0.407481\n",
      "epoch 300 loss 0.351695\n",
      "epoch 400 loss 0.314808\n"
     ]
    }
   ],
   "source": [
    "cost_list, params, grads = logistic_train(train_X, train_y)"
   ]
  },
  {
   "cell_type": "code",
   "execution_count": 9,
   "id": "218cf657",
   "metadata": {},
   "outputs": [
    {
     "data": {
      "text/plain": [
       "array([[0.],\n",
       "       [1.],\n",
       "       [1.],\n",
       "       [1.],\n",
       "       [1.]])"
      ]
     },
     "execution_count": 9,
     "metadata": {},
     "output_type": "execute_result"
    }
   ],
   "source": [
    "y_pre = logis_predict(test_X, params=params)\n",
    "y_pre[:5]"
   ]
  },
  {
   "cell_type": "code",
   "execution_count": 10,
   "id": "03f0c42f",
   "metadata": {},
   "outputs": [
    {
     "data": {
      "text/plain": [
       "0.9298245614035088"
      ]
     },
     "execution_count": 10,
     "metadata": {},
     "output_type": "execute_result"
    }
   ],
   "source": [
    "from sklearn.metrics import accuracy_score\n",
    "score = accuracy_score(test_y, y_pre)\n",
    "score"
   ]
  },
  {
   "cell_type": "markdown",
   "id": "53087f02",
   "metadata": {},
   "source": [
    "## 使用sklearn中的逻辑回归"
   ]
  },
  {
   "cell_type": "code",
   "execution_count": 11,
   "id": "304d5295",
   "metadata": {},
   "outputs": [
    {
     "name": "stderr",
     "output_type": "stream",
     "text": [
      "D:\\anaconda\\Lib\\site-packages\\sklearn\\utils\\validation.py:1339: DataConversionWarning: A column-vector y was passed when a 1d array was expected. Please change the shape of y to (n_samples, ), for example using ravel().\n",
      "  y = column_or_1d(y, warn=True)\n",
      "D:\\anaconda\\Lib\\site-packages\\sklearn\\utils\\validation.py:1339: DataConversionWarning: A column-vector y was passed when a 1d array was expected. Please change the shape of y to (n_samples, ), for example using ravel().\n",
      "  y = column_or_1d(y, warn=True)\n"
     ]
    },
    {
     "data": {
      "text/plain": [
       "0.9298245614035088"
      ]
     },
     "execution_count": 11,
     "metadata": {},
     "output_type": "execute_result"
    }
   ],
   "source": [
    "from sklearn.linear_model import LogisticRegression as lr\n",
    "clf = lr(random_state=1).fit(train_X, train_y)\n",
    "y_pred = clf.fit(test_X, test_y)\n",
    "score = accuracy_score(test_y, y_pre)\n",
    "score"
   ]
  },
  {
   "cell_type": "code",
   "execution_count": null,
   "id": "026941df-b5f5-4ae7-84e2-bef5525c24e8",
   "metadata": {},
   "outputs": [],
   "source": []
  }
 ],
 "metadata": {
  "kernelspec": {
   "display_name": "Python 3 (ipykernel)",
   "language": "python",
   "name": "python3"
  },
  "language_info": {
   "codemirror_mode": {
    "name": "ipython",
    "version": 3
   },
   "file_extension": ".py",
   "mimetype": "text/x-python",
   "name": "python",
   "nbconvert_exporter": "python",
   "pygments_lexer": "ipython3",
   "version": "3.12.7"
  }
 },
 "nbformat": 4,
 "nbformat_minor": 5
}
