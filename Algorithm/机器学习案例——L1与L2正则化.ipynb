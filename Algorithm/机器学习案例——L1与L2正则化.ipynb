{
 "cells": [
  {
   "cell_type": "markdown",
   "id": "55358026",
   "metadata": {},
   "source": [
    "### L1正则"
   ]
  },
  {
   "cell_type": "code",
   "execution_count": 1,
   "id": "c5e80fc1",
   "metadata": {},
   "outputs": [],
   "source": [
    "import numpy as np \n",
    "\n",
    "#定义符号函数\n",
    "def sign(w):\n",
    "    if w > 0:\n",
    "        return 1\n",
    "    elif w == 0:\n",
    "        return 0\n",
    "    else:\n",
    "        return -1\n",
    "#利用numpy对符号函数进行向量化，就是一次可以处理多个w，比如w1, w2, w3……\n",
    "vec_sign = np.vectorize(sign)"
   ]
  },
  {
   "cell_type": "code",
   "execution_count": 2,
   "id": "ccda4c75",
   "metadata": {},
   "outputs": [
    {
     "data": {
      "text/plain": [
       "'\\n关于np.vectorize用法的例子\\ndef myfunc(a, b):\\n...     \"Return a-b if a>b, otherwise return a+b\"\\n...     if a > b:\\n...         return a - b\\n...     else:\\n...         return a + b\\n    \\n\\nvfunc = np.vectorize(myfunc)\\n\\nvfunc([1, 2, 3, 4], 2)\\nOut[87]: array([3, 4, 1, 2])\\n'"
      ]
     },
     "execution_count": 2,
     "metadata": {},
     "output_type": "execute_result"
    }
   ],
   "source": [
    "'''\n",
    "关于np.vectorize用法的例子\n",
    "def myfunc(a, b):\n",
    "...     \"Return a-b if a>b, otherwise return a+b\"\n",
    "...     if a > b:\n",
    "...         return a - b\n",
    "...     else:\n",
    "...         return a + b\n",
    "    \n",
    "\n",
    "vfunc = np.vectorize(myfunc)\n",
    "\n",
    "vfunc([1, 2, 3, 4], 2)\n",
    "Out[87]: array([3, 4, 1, 2])\n",
    "'''"
   ]
  },
  {
   "cell_type": "code",
   "execution_count": 3,
   "id": "a7546fb8",
   "metadata": {},
   "outputs": [
    {
     "data": {
      "text/plain": [
       "array([[ 1],\n",
       "       [-1]])"
      ]
     },
     "execution_count": 3,
     "metadata": {},
     "output_type": "execute_result"
    }
   ],
   "source": [
    "w = np.array([[1],[-3]])\n",
    "vec_sign = np.vectorize(sign)\n",
    "vec_sign(w)"
   ]
  },
  {
   "cell_type": "code",
   "execution_count": 4,
   "id": "dc6896dc",
   "metadata": {},
   "outputs": [],
   "source": [
    "#初始化参数\n",
    "def initialize_param(dims):\n",
    "    w = np.zeros((dims,1))\n",
    "    b = 0\n",
    "    return w, b"
   ]
  },
  {
   "cell_type": "code",
   "execution_count": 5,
   "id": "c55b5278",
   "metadata": {},
   "outputs": [],
   "source": [
    "#定义L1正则化的线性回归\n",
    "def linear_regression_L1(X, y, w, b, alpha):\n",
    "    num_train = X.shape[0]\n",
    "    y_hat = np.dot(X, w) + b\n",
    "    loss = np.sum((y_hat-y)**2)/num_train + np.sum(alpha*abs(w))\n",
    "    \n",
    "    dw = np.dot(X.T, (y_hat-y))/num_train + alpha*vec_sign(w) #因为w可能是多维的，所以不能直接用sign函数\n",
    "    db = db = np.sum((y_hat-y)) /num_train\n",
    "    return y_hat, loss, dw, db"
   ]
  },
  {
   "cell_type": "code",
   "execution_count": 6,
   "id": "2ddd677c",
   "metadata": {},
   "outputs": [],
   "source": [
    "def training_process_L1(X, y, alpha=0.5, learning_rate=0.001, epoch=500):\n",
    "    \n",
    "    w, b = initialize_param(X.shape[1])\n",
    "    \n",
    "    loss_his = []\n",
    "    for i in range(epoch):\n",
    "        yhat, loss, dw, db = linear_regression_L1(X, y, w, b, alpha)\n",
    "        \n",
    "        w += -learning_rate * dw\n",
    "        b += -learning_rate * db\n",
    "        \n",
    "        loss_his.append(loss)\n",
    "        \n",
    "        if i%50 == 0:\n",
    "            print('epoch %d loss %f'%(i, loss))\n",
    "        params = {\n",
    "            'w' : w,\n",
    "            'b' : b            \n",
    "        }\n",
    "        \n",
    "        grads = {\n",
    "            'dw' : dw,\n",
    "            'db' : db\n",
    "        }\n",
    "    return loss_his, params, grads"
   ]
  },
  {
   "cell_type": "code",
   "execution_count": 7,
   "id": "e4516004-6c69-4f25-95d5-3e2864a140d0",
   "metadata": {},
   "outputs": [
    {
     "name": "stderr",
     "output_type": "stream",
     "text": [
      "<>:7: SyntaxWarning: invalid escape sequence '\\s'\n",
      "<>:7: SyntaxWarning: invalid escape sequence '\\s'\n",
      "C:\\Users\\BDY\\AppData\\Local\\Temp\\ipykernel_17484\\1297280390.py:7: SyntaxWarning: invalid escape sequence '\\s'\n",
      "  raw_df = pd.read_csv(data_url, sep=\"\\s+\", skiprows=22, header=None)\n"
     ]
    },
    {
     "name": "stdout",
     "output_type": "stream",
     "text": [
      "      CRIM    ZN  INDUS  CHAS    NOX     RM   AGE     DIS  RAD    TAX  \\\n",
      "0  0.00632  18.0   2.31   0.0  0.538  6.575  65.2  4.0900  1.0  296.0   \n",
      "1  0.02731   0.0   7.07   0.0  0.469  6.421  78.9  4.9671  2.0  242.0   \n",
      "2  0.02729   0.0   7.07   0.0  0.469  7.185  61.1  4.9671  2.0  242.0   \n",
      "3  0.03237   0.0   2.18   0.0  0.458  6.998  45.8  6.0622  3.0  222.0   \n",
      "4  0.06905   0.0   2.18   0.0  0.458  7.147  54.2  6.0622  3.0  222.0   \n",
      "\n",
      "   PTRATIO       B  MEDV  price  \n",
      "0     15.3  396.90  4.98   24.0  \n",
      "1     17.8  396.90  9.14   21.6  \n",
      "2     17.8  392.83  4.03   34.7  \n",
      "3     18.7  394.63  2.94   33.4  \n",
      "4     18.7  396.90  5.33   36.2  \n"
     ]
    }
   ],
   "source": [
    "from sklearn.model_selection import train_test_split\n",
    "import pandas as pd\n",
    "import warnings\n",
    "import numpy as np\n",
    "# 加载波士顿房屋数据集\n",
    "data_url = \"http://lib.stat.cmu.edu/datasets/boston\"\n",
    "raw_df = pd.read_csv(data_url, sep=\"\\s+\", skiprows=22, header=None)\n",
    "data = np.hstack([raw_df.values[::2, :], raw_df.values[1::2, :2]])\n",
    "target = raw_df.values[1::2, 2]\n",
    "feature_name = ['CRIM','ZN','INDUS','CHAS','NOX','RM','AGE','DIS','RAD','TAX','PTRATIO','B','MEDV']\n",
    "# 数据准备\n",
    "X = data\n",
    "y = target\n",
    "\n",
    "#dataset = load_boston()\n",
    "df = pd.DataFrame(X,columns=feature_name)\n",
    "df['price'] = y\n",
    "print(df.head())\n",
    "\n",
    "X = df[['CRIM','RM']].values\n",
    "y = df['price'].values"
   ]
  },
  {
   "cell_type": "code",
   "execution_count": 8,
   "id": "4dc83c7e",
   "metadata": {},
   "outputs": [
    {
     "data": {
      "text/plain": [
       "(506, 2)"
      ]
     },
     "execution_count": 8,
     "metadata": {},
     "output_type": "execute_result"
    }
   ],
   "source": [
    "X.shape"
   ]
  },
  {
   "cell_type": "code",
   "execution_count": 9,
   "id": "47e5f011",
   "metadata": {},
   "outputs": [],
   "source": [
    "X_train, X_test, y_train, y_test = train_test_split(X, y, random_state=1, test_size=0.2, shuffle=True)"
   ]
  },
  {
   "cell_type": "code",
   "execution_count": 10,
   "id": "2a595389",
   "metadata": {},
   "outputs": [],
   "source": [
    "y_train = y_train.reshape((-1,1))\n",
    "y_test = y_test.reshape((-1,1))"
   ]
  },
  {
   "cell_type": "code",
   "execution_count": 14,
   "id": "5636ec24",
   "metadata": {},
   "outputs": [
    {
     "name": "stdout",
     "output_type": "stream",
     "text": [
      "epoch 0 loss 588.034356\n",
      "epoch 50 loss 48.672657\n",
      "epoch 100 loss 48.601641\n",
      "epoch 150 loss 48.531364\n",
      "epoch 200 loss 48.461816\n",
      "epoch 250 loss 48.392991\n",
      "epoch 300 loss 48.324881\n",
      "epoch 350 loss 48.257478\n",
      "epoch 400 loss 48.190775\n",
      "epoch 450 loss 48.124764\n",
      "{'w': array([[-0.33084847],\n",
      "       [ 3.93101223]]), 'b': -0.6562129273271913}\n"
     ]
    }
   ],
   "source": [
    "loss_his, params, grads = training_process_L1(X_train, y_train, alpha=0.3, learning_rate=0.01, epoch=500)\n",
    "print(params)"
   ]
  },
  {
   "cell_type": "markdown",
   "id": "5d44486d",
   "metadata": {},
   "source": [
    "### L2正则"
   ]
  },
  {
   "cell_type": "code",
   "execution_count": 15,
   "id": "4c2d030e",
   "metadata": {},
   "outputs": [],
   "source": [
    "#整体架构和L1正则基本一致，唯独在损失函数和更新梯度的部分进行调整\n",
    "#定义L2正则化的线性回归\n",
    "def linear_regression_L2(X, y, w, b, alpha):\n",
    "    num_train = X.shape[0]\n",
    "    y_hat = np.dot(X, w) + b\n",
    "    loss = np.sum((y_hat-y)**2)/num_train + alpha*np.sum(np.square(w))\n",
    "    \n",
    "    dw = np.dot(X.T, (y_hat-y))/num_train + 2*alpha*w \n",
    "    db = db = np.sum((y_hat-y)) /num_train\n",
    "    return y_hat, loss, dw, db"
   ]
  },
  {
   "cell_type": "code",
   "execution_count": 16,
   "id": "61625a96",
   "metadata": {},
   "outputs": [],
   "source": [
    "def training_process_L2(X, y, alpha=0.5, learning_rate=0.001, epoch=500):\n",
    "    \n",
    "    w, b = initialize_param(X.shape[1])\n",
    "    \n",
    "    loss_his = []\n",
    "    for i in range(epoch):\n",
    "        #选择L2正则\n",
    "        yhat, loss, dw, db = linear_regression_L2(X, y, w, b, alpha)\n",
    "        \n",
    "        w += -learning_rate * dw\n",
    "        b += -learning_rate * db\n",
    "        \n",
    "        loss_his.append(loss)\n",
    "        \n",
    "        if i%50 == 0:\n",
    "            print('epoch %d loss %f'%(i, loss))\n",
    "        params = {\n",
    "            'w' : w,\n",
    "            'b' : b            \n",
    "        }\n",
    "        \n",
    "        grads = {\n",
    "            'dw' : dw,\n",
    "            'db' : db\n",
    "        }\n",
    "    return loss_his, params, grads"
   ]
  },
  {
   "cell_type": "code",
   "execution_count": 17,
   "id": "5bc1807d",
   "metadata": {},
   "outputs": [
    {
     "name": "stdout",
     "output_type": "stream",
     "text": [
      "epoch 0 loss 588.034356\n",
      "epoch 50 loss 51.768135\n",
      "epoch 100 loss 51.772964\n",
      "epoch 150 loss 51.777745\n",
      "epoch 200 loss 51.782478\n",
      "epoch 250 loss 51.787165\n",
      "epoch 300 loss 51.791805\n",
      "epoch 350 loss 51.796398\n",
      "epoch 400 loss 51.800945\n",
      "epoch 450 loss 51.805447\n",
      "{'w': array([[-0.32428257],\n",
      "       [ 3.66066917]]), 'b': 0.7403535862434624}\n"
     ]
    }
   ],
   "source": [
    "loss_his, params, grads = training_process_L2(X_train, y_train, alpha=0.3, learning_rate=0.01, epoch=500)\n",
    "print(params)"
   ]
  },
  {
   "cell_type": "markdown",
   "id": "da8daf92",
   "metadata": {},
   "source": [
    "### 书中数据集的正则化回归"
   ]
  },
  {
   "cell_type": "code",
   "execution_count": 18,
   "id": "a2d58add",
   "metadata": {},
   "outputs": [
    {
     "name": "stdout",
     "output_type": "stream",
     "text": [
      "[[-1.14558 -1.29249  0.84911 ...  1.5532  -1.42135  1.19238]\n",
      " [ 1.38724 -1.00201 -0.3337  ...  0.81903  0.39286 -3.44094]\n",
      " [ 1.47233  0.8488  -0.33866 ...  0.08911 -1.72476  3.75006]\n",
      " ...\n",
      " [-0.83673  0.80514  0.00807 ... -1.64165  2.04662  1.84121]\n",
      " [ 1.12062  0.68561 -1.08    ...  1.1926   0.33696  3.53143]\n",
      " [-0.28943 -0.22213 -0.52226 ...  0.22531  1.72576 -0.55118]]\n"
     ]
    },
    {
     "data": {
      "text/plain": [
       "(101, 101)"
      ]
     },
     "execution_count": 18,
     "metadata": {},
     "output_type": "execute_result"
    }
   ],
   "source": [
    "import numpy as np\n",
    "data = np.genfromtxt('example.dat', delimiter=',')\n",
    "print(data)\n",
    "data.shape"
   ]
  },
  {
   "cell_type": "code",
   "execution_count": 19,
   "id": "cdef0ba2",
   "metadata": {},
   "outputs": [],
   "source": [
    "X = data[:,0:100]\n",
    "y = data[:,100].reshape((-1,1))\n",
    "X_train, X_test, y_train, y_test = X[:70], X[70:], y[:70], y[70:]"
   ]
  },
  {
   "cell_type": "code",
   "execution_count": 20,
   "id": "eefc2f7e",
   "metadata": {},
   "outputs": [
    {
     "name": "stdout",
     "output_type": "stream",
     "text": [
      "epoch 0 loss 9.663744\n",
      "epoch 50 loss 5.304081\n",
      "epoch 100 loss 4.496554\n",
      "epoch 150 loss 4.194744\n",
      "epoch 200 loss 4.036807\n",
      "epoch 250 loss 3.953707\n",
      "epoch 300 loss 3.888901\n",
      "epoch 350 loss 3.847023\n",
      "epoch 400 loss 3.815737\n",
      "epoch 450 loss 3.789598\n",
      "epoch 0 loss 9.663744\n",
      "epoch 50 loss 2.605747\n",
      "epoch 100 loss 1.991596\n",
      "epoch 150 loss 1.837324\n",
      "epoch 200 loss 1.779207\n",
      "epoch 250 loss 1.752703\n",
      "epoch 300 loss 1.739193\n",
      "epoch 350 loss 1.731787\n",
      "epoch 400 loss 1.727510\n",
      "epoch 450 loss 1.724937\n"
     ]
    }
   ],
   "source": [
    "loss_his_l1, params_l1, grads_l1 = training_process_L1(X_train, y_train, alpha=0.3, learning_rate=0.01, epoch=500)\n",
    "loss_his_l2, params_l2, grads_l2 = training_process_L2(X_train, y_train, alpha=0.3, learning_rate=0.01, epoch=500)"
   ]
  },
  {
   "cell_type": "code",
   "execution_count": 21,
   "id": "d9674ed2",
   "metadata": {},
   "outputs": [
    {
     "data": {
      "text/plain": [
       "array([[-0.  ],\n",
       "       [ 0.25],\n",
       "       [ 0.33],\n",
       "       [ 0.  ],\n",
       "       [ 0.75]])"
      ]
     },
     "execution_count": 21,
     "metadata": {},
     "output_type": "execute_result"
    }
   ],
   "source": [
    "np.set_printoptions(suppress=True)\n",
    "#l1的参数包含大量的0  \n",
    "np.around(params_l1['w'],2)[:5]"
   ]
  },
  {
   "cell_type": "code",
   "execution_count": 22,
   "id": "69cf3626",
   "metadata": {},
   "outputs": [
    {
     "data": {
      "text/plain": [
       "array([[-0.07],\n",
       "       [ 0.29],\n",
       "       [ 0.22],\n",
       "       [ 0.14],\n",
       "       [ 0.48]])"
      ]
     },
     "execution_count": 22,
     "metadata": {},
     "output_type": "execute_result"
    }
   ],
   "source": [
    "np.around(params_l2['w'],2)[:5]"
   ]
  },
  {
   "cell_type": "code",
   "execution_count": null,
   "id": "9594e71f-e7ae-4a3a-858b-9943c7f06976",
   "metadata": {},
   "outputs": [],
   "source": []
  }
 ],
 "metadata": {
  "kernelspec": {
   "display_name": "Python 3 (ipykernel)",
   "language": "python",
   "name": "python3"
  },
  "language_info": {
   "codemirror_mode": {
    "name": "ipython",
    "version": 3
   },
   "file_extension": ".py",
   "mimetype": "text/x-python",
   "name": "python",
   "nbconvert_exporter": "python",
   "pygments_lexer": "ipython3",
   "version": "3.12.7"
  }
 },
 "nbformat": 4,
 "nbformat_minor": 5
}
